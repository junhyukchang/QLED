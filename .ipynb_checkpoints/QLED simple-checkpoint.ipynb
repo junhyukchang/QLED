{
 "cells": [
  {
   "cell_type": "markdown",
   "metadata": {},
   "source": [
    "# Complete Dirichlet Boundary Conditon"
   ]
  },
  {
   "cell_type": "code",
   "execution_count": 1,
   "metadata": {
    "collapsed": true
   },
   "outputs": [],
   "source": [
    "%matplotlib inline\n",
    "from __future__ import division\n",
    "import numpy as np\n",
    "import matplotlib.pyplot as plt\n",
    "import sys\n",
    "sys.path.append(\"/Users/KP/Google/Python/QD\")\n",
    "from sub import parameter, matrix, geometry\n",
    "from scipy.sparse import csr_matrix, eye, diags\n",
    "from scipy.sparse.linalg import eigs, spsolve\n",
    "#import Band_diagram"
   ]
  },
  {
   "cell_type": "code",
   "execution_count": 2,
   "metadata": {
    "collapsed": true
   },
   "outputs": [],
   "source": [
    "def gaussian(x, mu, sig):\n",
    "    return np.exp(-np.power(x - mu, 2.) / (2 * np.power(sig, 2.)))"
   ]
  },
  {
   "cell_type": "markdown",
   "metadata": {},
   "source": [
    "# Applied Voltage"
   ]
  },
  {
   "cell_type": "code",
   "execution_count": 12,
   "metadata": {
    "collapsed": true
   },
   "outputs": [],
   "source": [
    "V = 2\n",
    "dE = 0.1\n",
    "dz = 2e-10\n",
    "y = np.arange(-10, 5, dE) # Energy\n",
    "\n",
    "dimension = 50e-9\n",
    "z = np.arange(0, dimension, dz)\n",
    "nz = len(z)\n"
   ]
  },
  {
   "cell_type": "markdown",
   "metadata": {},
   "source": [
    "# Define Constant"
   ]
  },
  {
   "cell_type": "code",
   "execution_count": 13,
   "metadata": {
    "collapsed": true
   },
   "outputs": [],
   "source": [
    "EH = -5\n",
    "EL = -2\n",
    "EF  = -2.5\n",
    "\n",
    "n = 1e18/1.42e-9*dz\n",
    "eo = 8.85e-12\n",
    "er = 3.6\n",
    "kT = 0.0259\n",
    "q = 1.6e-19\n",
    "c_array = np.ones(len(z))*er #* eo*er"
   ]
  },
  {
   "cell_type": "markdown",
   "metadata": {},
   "source": [
    "# Fermi Level"
   ]
  },
  {
   "cell_type": "code",
   "execution_count": 14,
   "metadata": {},
   "outputs": [
    {
     "data": {
      "text/plain": [
       "<matplotlib.legend.Legend at 0x114280690>"
      ]
     },
     "execution_count": 14,
     "metadata": {},
     "output_type": "execute_result"
    },
    {
     "data": {
      "image/png": "[encoded data removed]",
      "text/plain": [
       "<matplotlib.figure.Figure at 0x113e1da50>"
      ]
     },
     "metadata": {},
     "output_type": "display_data"
    }
   ],
   "source": [
    "fH = 1/(1/2*np.exp(-(y-EF)/kT)+1)\n",
    "fL = 1/(1/2*np.exp((y-EF)/kT)+1)\n",
    "plt.plot(y, fL, 'b', label = 'electron')\n",
    "plt.plot(y, fH, 'r', label = 'hole')\n",
    "plt.legend()"
   ]
  },
  {
   "cell_type": "markdown",
   "metadata": {},
   "source": [
    "# Define Geometry"
   ]
  },
  {
   "cell_type": "code",
   "execution_count": 15,
   "metadata": {},
   "outputs": [
    {
     "name": "stdout",
     "output_type": "stream",
     "text": [
      "250 500 750\n"
     ]
    }
   ],
   "source": [
    "geo = np.zeros(len(z))\n",
    "geo1 = 50e-9 / dz\n",
    "geo2 = geo1 + 50e-9 / dz \n",
    "geo3 = geo2 + 50e-9 / dz\n",
    "geo1 = np.int(geo1) + 1\n",
    "geo2 = np.int(geo2) + 1\n",
    "geo3 = np.int(geo3) + 1\n",
    "print geo1, geo2, geo3"
   ]
  },
  {
   "cell_type": "markdown",
   "metadata": {},
   "source": [
    "# Density of States"
   ]
  },
  {
   "cell_type": "code",
   "execution_count": 16,
   "metadata": {},
   "outputs": [
    {
     "data": {
      "text/plain": [
       "[<matplotlib.lines.Line2D at 0x1143cf410>]"
      ]
     },
     "execution_count": 16,
     "metadata": {},
     "output_type": "execute_result"
    },
    {
     "data": {
      "image/png": "[encoded data removed]",
      "text/plain": [
       "<matplotlib.figure.Figure at 0x113fd4ed0>"
      ]
     },
     "metadata": {},
     "output_type": "display_data"
    }
   ],
   "source": [
    "dosH = np.zeros((len(y), len(z)))\n",
    "dosL = np.zeros((len(y), len(z)))\n",
    "ne = np.zeros((len(y), len(z)))\n",
    "nh = np.zeros((len(y), len(z)))\n",
    "\n",
    "for i in range(len(geo)):\n",
    "    dosH[:,i] = gaussian(y, EH, 0.25)   \n",
    "    dosL[:,i] = gaussian(y, EL, 0.25)   \n",
    "    ne[:,i] = dosL[:,i]*fL  # [/E /dz]\n",
    "    nh[:,i] = dosH[:,i]*fH\n",
    "neSum = np.sum(ne, axis = 0)*dE  # [/dz]\n",
    "nhSum = np.sum(nh, axis = 0)*dE \n",
    "qden_old = q*n*(nhSum - neSum) # [C/m2/dz]  \n",
    "\n",
    "plt.plot(neSum)"
   ]
  },
  {
   "cell_type": "markdown",
   "metadata": {},
   "source": [
    "# Define Inhomogeneous Poisson Matrix"
   ]
  },
  {
   "cell_type": "code",
   "execution_count": 17,
   "metadata": {
    "collapsed": true
   },
   "outputs": [],
   "source": [
    "z_boundary = 0 #Dirichlet : 0    Neumann : 1\n",
    "\n",
    "if z_boundary == 0:\n",
    "    poisson = diags(-np.append(c_array[1:], c_array[-1]) - np.append(c_array[0], c_array[:-1])) \\\n",
    "          + diags(c_array[1:], 1) + diags(c_array[:-1], -1)\n",
    "    #poisson[-1,-1] =  V*c_array[-1] / dz\n",
    "    \n",
    "elif z_boundary == 1:\n",
    "    poisson = diags(-np.append(c_array[1:], c_array[-1]) - np.append(c_array[0], c_array[:-1])) \\\n",
    "          + diags(c_array[1:], 1) + diags(c_array[:-1], -1)\n",
    "    poisson[-1,-2] *= 2\n",
    "    #poisson[-1,-1] =  V*c_array[-1]/dz\n",
    "    #poisson[-1,-1] = 2*c_array[-1] \n",
    "    #poisson[-1,-2] = -c_array[-1] *2\n",
    "poisson /= (dz)\n",
    "poisson = csr_matrix(poisson)\n",
    "#p = poisson.todense()"
   ]
  },
  {
   "cell_type": "markdown",
   "metadata": {},
   "source": [
    "# Initial guess"
   ]
  },
  {
   "cell_type": "code",
   "execution_count": 18,
   "metadata": {},
   "outputs": [
    {
     "name": "stdout",
     "output_type": "stream",
     "text": [
      "-0.335466566978 -2.319530312\n"
     ]
    },
    {
     "data": {
      "image/png": "[encoded data removed]",
      "text/plain": [
       "<matplotlib.figure.Figure at 0x113deb9d0>"
      ]
     },
     "metadata": {},
     "output_type": "display_data"
    }
   ],
   "source": [
    "#qden_old /= 1000\n",
    "#Vz = np.linalg.solve(poisson, -qden_old/eo)\n",
    "if z_boundary == 0:\n",
    "    qden_old[-1] -= (V*c_array[-1] / dz * eo)\n",
    "Vz = spsolve(poisson, -qden_old/eo)\n",
    "#fig, ax1 = plt.subplots(1,2)\n",
    "plt.plot(z, -Vz)\n",
    "#plt.ylim([-1.1,0])\n",
    "print Vz[0], Vz[-1]"
   ]
  },
  {
   "cell_type": "markdown",
   "metadata": {},
   "source": [
    "# Iteration"
   ]
  },
  {
   "cell_type": "code",
   "execution_count": 19,
   "metadata": {},
   "outputs": [
    {
     "name": "stdout",
     "output_type": "stream",
     "text": [
      "0 -1.07167749203\n",
      "1000 -0.097858382845\n",
      "2000 -0.0301587405886\n",
      "3000 -0.0105668080718\n",
      "4000 -0.00379691947229\n",
      "5000 -0.00135758139517\n",
      "6000 -0.000483634748617\n",
      "7000 -0.000172209567239\n",
      "8000 -6.13729655153e-05\n",
      "9000 -2.19005527361e-05\n",
      "10000 -7.82543002479e-06\n",
      "11000 -2.79962167433e-06\n",
      "12000 -1.00271477261e-06\n"
     ]
    }
   ],
   "source": [
    "dosH = np.zeros((len(y), len(z)))\n",
    "dosL = np.zeros((len(y), len(z)))\n",
    "ne = np.zeros((len(y), len(z)))\n",
    "nh = np.zeros((len(y), len(z)))\n",
    "\n",
    "for k in range(50000):\n",
    "    if z_boundary == 0:\n",
    "        qden_boundary = qden_old + 0\n",
    "        qden_boundary[-1] = qden_old[-1] - V*c_array[-1] / dz * eo\n",
    "#        qden_old[-1] -= (V*c_array[-1] / dz * eo)\n",
    "        Vz = spsolve(poisson, -qden_boundary/eo)\n",
    "    else:\n",
    "        Vz = spsolve(poisson, -qden_old/eo)\n",
    "    \n",
    "    for i in range(len(geo)):\n",
    "        dosH[:,i] = gaussian(y, EH-Vz[i], 0.25)   \n",
    "        dosL[:,i] = gaussian(y, EL-Vz[i], 0.25)   \n",
    "        ne[:,i] = dosL[:,i]*fL  # [/E /dz]\n",
    "        nh[:,i] = dosH[:,i]*fH\n",
    "   \n",
    "    neSum = np.sum(ne, axis = 0)*dE  # [/dz]\n",
    "    nhSum = np.sum(nh, axis = 0)*dE \n",
    "    qden_new = q*n*(nhSum - neSum) # [C/m2/dz]    \n",
    "   \n",
    "    diff = np.sum(qden_old - qden_new)\n",
    "    qden_old = (qden_old*999/1000 + qden_new/1000)\n",
    "    if k % 1000 == 0:\n",
    "        print k, diff\n",
    "    #qden_new *= 1000\n",
    "    #plt.plot(z, -Vz)\n",
    "#    plt.plot(y, dosL, 'r',  label = 'DOS_E')\n",
    "    #plt.plot(y, dosL, 'g', label = 'DOS_H')\n",
    "    if np.abs(diff) < 1e-6:\n",
    "        break"
   ]
  },
  {
   "cell_type": "code",
   "execution_count": 21,
   "metadata": {},
   "outputs": [
    {
     "data": {
      "text/plain": [
       "[<matplotlib.lines.Line2D at 0x114d32150>]"
      ]
     },
     "execution_count": 21,
     "metadata": {},
     "output_type": "execute_result"
    },
    {
     "data": {
      "image/png": "[encoded data removed]",
      "text/plain": [
       "<matplotlib.figure.Figure at 0x1140812d0>"
      ]
     },
     "metadata": {},
     "output_type": "display_data"
    },
    {
     "data": {
      "image/png": "[encoded data removed]",
      "text/plain": [
       "<matplotlib.figure.Figure at 0x114ab9910>"
      ]
     },
     "metadata": {},
     "output_type": "display_data"
    },
    {
     "data": {
      "image/png": "[encoded data removed]",
      "text/plain": [
       "<matplotlib.figure.Figure at 0x114b2a890>"
      ]
     },
     "metadata": {},
     "output_type": "display_data"
    }
   ],
   "source": [
    "plt.contourf(z,y,dosL+dosH)\n",
    "plt.figure()\n",
    "plt.plot(z, qden_old)\n",
    "plt.figure()\n",
    "plt.plot(z, -Vz)"
   ]
  }
 ],
 "metadata": {
  "kernelspec": {
   "display_name": "Python 2",
   "language": "python",
   "name": "python2"
  },
  "language_info": {
   "codemirror_mode": {
    "name": "ipython",
    "version": 2
   },
   "file_extension": ".py",
   "mimetype": "text/x-python",
   "name": "python",
   "nbconvert_exporter": "python",
   "pygments_lexer": "ipython2",
   "version": "2.7.13"
  }
 },
 "nbformat": 4,
 "nbformat_minor": 2
}
