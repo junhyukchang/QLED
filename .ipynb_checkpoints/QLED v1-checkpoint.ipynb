{
 "cells": [
  {
   "cell_type": "code",
   "execution_count": 1,
   "metadata": {
    "collapsed": true
   },
   "outputs": [],
   "source": [
    "%matplotlib inline\n",
    "from __future__ import division\n",
    "import numpy as np\n",
    "import matplotlib.pyplot as plt\n",
    "import sys\n",
    "sys.path.append(\"/Users/KP/Google/Python/QD\")\n",
    "from sub import parameter, matrix, geometry\n",
    "from scipy.sparse import csr_matrix, eye, diags\n",
    "from scipy.sparse.linalg import eigs, spsolve\n"
   ]
  },
  {
   "cell_type": "code",
   "execution_count": 2,
   "metadata": {
    "collapsed": true
   },
   "outputs": [],
   "source": [
    "def gaussian(x, mu, sig):\n",
    "    return np.exp(-np.power(x - mu, 2.) / (2 * np.power(sig, 2.)))"
   ]
  },
  {
   "cell_type": "markdown",
   "metadata": {},
   "source": [
    "# Define Geometry"
   ]
  },
  {
   "cell_type": "code",
   "execution_count": 3,
   "metadata": {},
   "outputs": [],
   "source": [
    "dz = 1.42e-9\n",
    "z = np.arange(0, 10e-9, dz)\n",
    "nz = len(z)\n",
    "eo = 8.85e-12\n",
    "er = 3.6\n",
    "c_array = np.ones(len(z))*er #* eo*er\n",
    "V = 4\n",
    "Vi = np.linspace(0, V, nz)\n",
    "dE = 0.1\n",
    "y = np.arange(-6, 0, dE) # Energy\n",
    "kT = 0.0259\n",
    "q = 1.6e-19"
   ]
  },
  {
   "cell_type": "markdown",
   "metadata": {},
   "source": [
    "# Define Constant"
   ]
  },
  {
   "cell_type": "code",
   "execution_count": 4,
   "metadata": {
    "collapsed": true
   },
   "outputs": [],
   "source": [
    "EH = -5.3 # ev\n",
    "EL = -2.1 \n",
    "EF = -3.5\n",
    "\n",
    "n = 4.1e18"
   ]
  },
  {
   "cell_type": "markdown",
   "metadata": {},
   "source": [
    "# Define Inhomogeneous Poisson Matrix"
   ]
  },
  {
   "cell_type": "code",
   "execution_count": 5,
   "metadata": {},
   "outputs": [],
   "source": [
    "z_boundary = 1 #Dirichlet : 0    Neumann : 1\n",
    "\n",
    "if z_boundary == 0:\n",
    "    poisson = diags(-np.append(c_array[1:], V) - np.append(c_array[0], c_array[:-1])) \\\n",
    "          + diags(c_array[1:], 1) + diags(c_array[:-1], -1)\n",
    "elif z_boundary == 1:\n",
    "    poisson = diags(-np.append(c_array[1:], c_array[-1]) - np.append(c_array[0], c_array[:-1])) \\\n",
    "          + diags(c_array[1:], 1) + diags(c_array[:-1], -1)\n",
    "    poisson[-1,-2] *= 2\n",
    "    #poisson[-1,-1] = 2*c_array[-1] \n",
    "    #poisson[-1,-2] = -c_array[-1] *2\n",
    "poisson /= ((dz)**2)\n",
    "poisson = csr_matrix(poisson)"
   ]
  },
  {
   "cell_type": "code",
   "execution_count": 6,
   "metadata": {},
   "outputs": [
    {
     "data": {
      "text/plain": [
       "<matplotlib.legend.Legend at 0x103c512d0>"
      ]
     },
     "execution_count": 6,
     "metadata": {},
     "output_type": "execute_result"
    },
    {
     "data": {
      "image/png": "[encoded data removed]",
      "text/plain": [
       "<matplotlib.figure.Figure at 0x10ca8f3d0>"
      ]
     },
     "metadata": {},
     "output_type": "display_data"
    }
   ],
   "source": [
    "fH = 1/(1/2*np.exp(-(y-EF)/kT)+1)\n",
    "fL = 1/(1/2*np.exp((y-EF)/kT)+1)\n",
    "plt.plot(y, fL, label = 'electron')\n",
    "plt.plot(y, fH, label = 'hole')\n",
    "plt.legend()"
   ]
  },
  {
   "cell_type": "code",
   "execution_count": 7,
   "metadata": {},
   "outputs": [
    {
     "data": {
      "text/plain": [
       "[<matplotlib.lines.Line2D at 0x10d38dd90>]"
      ]
     },
     "execution_count": 7,
     "metadata": {},
     "output_type": "execute_result"
    },
    {
     "data": {
      "image/png": "[encoded data removed]",
      "text/plain": [
       "<matplotlib.figure.Figure at 0x10531de10>"
      ]
     },
     "metadata": {},
     "output_type": "display_data"
    }
   ],
   "source": [
    "dosH = np.zeros((len(y), len(z)))\n",
    "dosL = np.zeros((len(y), len(z)))\n",
    "ne = np.zeros((len(y), len(z)))\n",
    "nh = np.zeros((len(y), len(z)))\n",
    "\n",
    "for i in range(len(z)):\n",
    "    dosH[:,i] = gaussian(y, EH, 0.25)\n",
    "    dosL[:,i] = gaussian(y, EL, 0.25)\n",
    "for i in range(len(z)):\n",
    "    ne[:,i] = dosL[:,i]*fL  # [/E /dz]\n",
    "    nh[:,i] = dosH[:,i]*fH\n",
    "    \n",
    "neSum = np.sum(ne, axis = 0)*dE  # [/dz]\n",
    "nhSum = np.sum(nh, axis = 0)*dE \n",
    "plt.plot(z, neSum, label = 'electron')\n",
    "plt.plot(z, nhSum, label = 'hole')\n",
    "plt.legend()\n",
    "qden_old = q*n*(nhSum - neSum) # [C/m2/dz]\n",
    "plt.plot(z, qden_old)"
   ]
  },
  {
   "cell_type": "code",
   "execution_count": 8,
   "metadata": {},
   "outputs": [
    {
     "data": {
      "text/plain": [
       "[<matplotlib.lines.Line2D at 0x10d4b6990>]"
      ]
     },
     "execution_count": 8,
     "metadata": {},
     "output_type": "execute_result"
    },
    {
     "data": {
      "image/png": "[encoded data removed]",
      "text/plain": [
       "<matplotlib.figure.Figure at 0x10ca77850>"
      ]
     },
     "metadata": {},
     "output_type": "display_data"
    }
   ],
   "source": [
    "Vz = spsolve(poisson, qden_old/eo)\n",
    "plt.plot(z, Vz)"
   ]
  },
  {
   "cell_type": "code",
   "execution_count": 9,
   "metadata": {
    "scrolled": false
   },
   "outputs": [
    {
     "name": "stdout",
     "output_type": "stream",
     "text": [
      "-3.75688890609e-20\n",
      "0.0\n",
      "0.0\n",
      "0.0\n",
      "0.0\n",
      "0.0\n",
      "0.0\n",
      "0.0\n",
      "0.0\n",
      "0.0\n"
     ]
    },
    {
     "data": {
      "text/plain": [
       "[<matplotlib.lines.Line2D at 0x10d5d4290>]"
      ]
     },
     "execution_count": 9,
     "metadata": {},
     "output_type": "execute_result"
    },
    {
     "data": {
      "image/png": "[encoded data removed]",
      "text/plain": [
       "<matplotlib.figure.Figure at 0x10cb6a310>"
      ]
     },
     "metadata": {},
     "output_type": "display_data"
    }
   ],
   "source": [
    "diff = 100\n",
    "for k in range(10):\n",
    "    Vz = spsolve(poisson, -qden_old/eo)\n",
    "    for i in range(len(z)):\n",
    "        dosH[:,i] = gaussian(y, EH-Vz[i], 0.25)\n",
    "        dosL[:,i] = gaussian(y, EL-Vz[i], 0.25)\n",
    "    for i in range(len(z)):\n",
    "        ne[:,i] = dosL[:,i]*fL\n",
    "        nh[:,i] = dosH[:,i]*fH\n",
    "    neSum = np.sum(ne, axis = 0)*dE\n",
    "    nhSum = np.sum(nh, axis = 0)*dE\n",
    "    qden_new = q*n*(nhSum - neSum)\n",
    "    diff = np.sum(qden_old - qden_new)\n",
    "    qden_old = qden_new+0\n",
    "    print diff\n",
    "\n",
    "#plt.contourf(z, y, dosL)\n",
    "#plt.colorbar()\n",
    "plt.plot(z, qden_old)"
   ]
  },
  {
   "cell_type": "code",
   "execution_count": 10,
   "metadata": {},
   "outputs": [
    {
     "data": {
      "text/plain": [
       "array([ -1.20790994e-08,  -1.20790994e-08,  -1.20790994e-08,\n",
       "        -1.20790994e-08,  -1.20790994e-08,  -1.20790994e-08,\n",
       "        -1.20790994e-08,  -1.20790994e-08])"
      ]
     },
     "execution_count": 10,
     "metadata": {},
     "output_type": "execute_result"
    }
   ],
   "source": [
    "qden_new"
   ]
  },
  {
   "cell_type": "code",
   "execution_count": 11,
   "metadata": {},
   "outputs": [
    {
     "data": {
      "text/plain": [
       "(8,)"
      ]
     },
     "execution_count": 11,
     "metadata": {},
     "output_type": "execute_result"
    }
   ],
   "source": [
    "dosL[0,:].shape"
   ]
  },
  {
   "cell_type": "code",
   "execution_count": 12,
   "metadata": {},
   "outputs": [
    {
     "ename": "ValueError",
     "evalue": "operands could not be broadcast together with shapes (60,8) (60,) ",
     "output_type": "error",
     "traceback": [
      "\u001b[0;31m---------------------------------------------------------------------------\u001b[0m",
      "\u001b[0;31mValueError\u001b[0m                                Traceback (most recent call last)",
      "\u001b[0;32m<ipython-input-12-49dc074d3a3d>\u001b[0m in \u001b[0;36m<module>\u001b[0;34m()\u001b[0m\n\u001b[0;32m----> 1\u001b[0;31m \u001b[0mqden\u001b[0m \u001b[0;34m=\u001b[0m \u001b[0mq\u001b[0m\u001b[0;34m*\u001b[0m\u001b[0mn\u001b[0m\u001b[0;34m*\u001b[0m\u001b[0;34m(\u001b[0m\u001b[0mnp\u001b[0m\u001b[0;34m.\u001b[0m\u001b[0msum\u001b[0m\u001b[0;34m(\u001b[0m\u001b[0mdosH\u001b[0m\u001b[0;34m*\u001b[0m\u001b[0mfH\u001b[0m\u001b[0;34m)\u001b[0m \u001b[0;34m-\u001b[0m \u001b[0mnp\u001b[0m\u001b[0;34m.\u001b[0m\u001b[0msum\u001b[0m\u001b[0;34m(\u001b[0m\u001b[0mdosL\u001b[0m\u001b[0;34m*\u001b[0m\u001b[0mfL\u001b[0m\u001b[0;34m)\u001b[0m\u001b[0;34m)\u001b[0m\u001b[0;34m*\u001b[0m\u001b[0mdz\u001b[0m\u001b[0;34m\u001b[0m\u001b[0m\n\u001b[0m\u001b[1;32m      2\u001b[0m \u001b[0mplt\u001b[0m\u001b[0;34m.\u001b[0m\u001b[0mplot\u001b[0m\u001b[0;34m(\u001b[0m\u001b[0mx\u001b[0m\u001b[0;34m,\u001b[0m \u001b[0mfH\u001b[0m\u001b[0;34m)\u001b[0m\u001b[0;34m\u001b[0m\u001b[0m\n\u001b[1;32m      3\u001b[0m \u001b[0mplt\u001b[0m\u001b[0;34m.\u001b[0m\u001b[0mplot\u001b[0m\u001b[0;34m(\u001b[0m\u001b[0mx\u001b[0m\u001b[0;34m,\u001b[0m \u001b[0mfL\u001b[0m\u001b[0;34m)\u001b[0m\u001b[0;34m\u001b[0m\u001b[0m\n",
      "\u001b[0;31mValueError\u001b[0m: operands could not be broadcast together with shapes (60,8) (60,) "
     ]
    }
   ],
   "source": [
    "qden = q*n*(np.sum(dosH*fH) - np.sum(dosL*fL))*dz\n",
    "plt.plot(x, fH)\n",
    "plt.plot(x, fL)"
   ]
  },
  {
   "cell_type": "code",
   "execution_count": null,
   "metadata": {},
   "outputs": [],
   "source": [
    "qden.shape"
   ]
  }
 ],
 "metadata": {
  "kernelspec": {
   "display_name": "Python 2",
   "language": "python",
   "name": "python2"
  },
  "language_info": {
   "codemirror_mode": {
    "name": "ipython",
    "version": 2
   },
   "file_extension": ".py",
   "mimetype": "text/x-python",
   "name": "python",
   "nbconvert_exporter": "python",
   "pygments_lexer": "ipython2",
   "version": "2.7.13"
  }
 },
 "nbformat": 4,
 "nbformat_minor": 2
}
