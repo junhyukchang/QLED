{
 "cells": [
  {
   "cell_type": "code",
   "execution_count": 6,
   "metadata": {
    "collapsed": true
   },
   "outputs": [],
   "source": [
    "%matplotlib inline\n",
    "from __future__ import division\n",
    "import numpy as np\n",
    "import matplotlib.pyplot as plt\n",
    "import sys\n",
    "sys.path.append(\"/Users/KP/Google/Python/QD\")\n",
    "from sub import parameter, matrix, geometry\n",
    "from scipy.sparse import csr_matrix, eye, diags\n",
    "from scipy.sparse.linalg import eigs, spsolve\n"
   ]
  },
  {
   "cell_type": "code",
   "execution_count": 7,
   "metadata": {
    "collapsed": true
   },
   "outputs": [],
   "source": [
    "def gaussian(x, mu, sig):\n",
    "    return np.exp(-np.power(x - mu, 2.) / (2 * np.power(sig, 2.)))"
   ]
  },
  {
   "cell_type": "markdown",
   "metadata": {},
   "source": [
    "# Define Geometry"
   ]
  },
  {
   "cell_type": "code",
   "execution_count": 8,
   "metadata": {
    "collapsed": true
   },
   "outputs": [],
   "source": [
    "dz = 2e-10\n",
    "z = np.arange(0, 30e-9, dz)\n",
    "nz = len(z)\n",
    "eo = 8.85e-12\n",
    "er = 3.6\n",
    "c_array = np.ones(len(z))*er #* eo*er\n",
    "V = 4\n",
    "Vi = np.linspace(0, V, nz)\n",
    "dE = 0.1\n",
    "y = np.arange(-10, 0, dE) # Energy\n",
    "kT = 0.0259\n",
    "q = 1.6e-19"
   ]
  },
  {
   "cell_type": "markdown",
   "metadata": {},
   "source": [
    "# Define Constant"
   ]
  },
  {
   "cell_type": "code",
   "execution_count": 9,
   "metadata": {
    "collapsed": true
   },
   "outputs": [],
   "source": [
    "EH = -5.3 # ev\n",
    "EL = -2.1 \n",
    "EF = -5.3\n",
    "\n",
    "n = 4.1e18/1.42e-9*dz"
   ]
  },
  {
   "cell_type": "markdown",
   "metadata": {},
   "source": [
    "# Define Inhomogeneous Poisson Matrix"
   ]
  },
  {
   "cell_type": "code",
   "execution_count": 17,
   "metadata": {
    "collapsed": true
   },
   "outputs": [],
   "source": [
    "boundary_start = 'Dirichlet'\n",
    "boundary_end = 'Neumann'\n",
    "\n",
    "dcoeffdz = (eye(nz,k=1) + eye(nz,k=-1)*-1)\n",
    "dcoeffdz /= (2*dz)\n",
    "dcoeffdz = dcoeffdz.todense()\n",
    "for i in range(nz):\n",
    "    dcoeffdz[i] = dcoeffdz[i]*(c_array[i])  # [nz, nz] X [nz, 1] = [nz, 1]\n",
    "dcoeffdz[0,0] = 0\n",
    "ddz = eye(nz ,k=1) + eye(nz ,k=-1)*-1 \n",
    "ddz /= (2*dz)\n",
    "ddz = ddz.todense()\n",
    "\n",
    "laplacY = eye(nz)*(-2) + eye(nz,k=1) +eye(nz, k=-1)\n",
    "laplacY /= (dz**2)\n",
    "laplacY =laplacY .todense()\n",
    "\n",
    "term1 = np.zeros((nz,nz))\n",
    "term2 = np.zeros((nz,nz))\n",
    "      \n",
    "for i in range(nz):\n",
    "    term1[i,:] = ddz[i,:] *dcoeffdz[i,0]\n",
    "    term2[i,:] = laplacY[i,:] * c_array[i]\n",
    "if boundary_end == 'Neumann':\n",
    "    term1[-1,:] = 0\n",
    "    \n",
    "inhomo_lap = term1 + term2\n",
    "\n",
    "if boundary_start == 'Neumann':\n",
    "    inhomo_lap[0,1] *= 2\n",
    "    inhomo_lap[0,1] *= 2\n",
    "elif boundary_start == 'Dirichlet':\n",
    "    inhomo_lap[0,0] += c_array[0]*V/(dz**2)\n",
    "\n",
    "if boundary_end == 'Neumann':\n",
    "    inhomo_lap[nz-1,nz-2] *= 2\n",
    "elif boundary_start == 'Dirichlet':\n",
    "    inhomo_lap[-1,-1] += c_array[0]*V/(dz**2)"
   ]
  },
  {
   "cell_type": "code",
   "execution_count": 18,
   "metadata": {
    "collapsed": true
   },
   "outputs": [],
   "source": [
    "inhomo_lap = csr_matrix(inhomo_lap)"
   ]
  },
  {
   "cell_type": "code",
   "execution_count": 19,
   "metadata": {},
   "outputs": [
    {
     "data": {
      "text/plain": [
       "<matplotlib.legend.Legend at 0x10d72f690>"
      ]
     },
     "execution_count": 19,
     "metadata": {},
     "output_type": "execute_result"
    },
    {
     "data": {
      "image/png": "[encoded data removed]",
      "text/plain": [
       "<matplotlib.figure.Figure at 0x10d0b7cd0>"
      ]
     },
     "metadata": {},
     "output_type": "display_data"
    }
   ],
   "source": [
    "fH = 1/(1/2*np.exp(-(y-EF)/kT)+1)\n",
    "fL = 1/(1/2*np.exp((y-EF)/kT)+1)\n",
    "plt.plot(y, fL, 'b', label = 'electron')\n",
    "plt.plot(y, fH, 'r', label = 'hole')\n",
    "plt.legend()"
   ]
  },
  {
   "cell_type": "code",
   "execution_count": 20,
   "metadata": {},
   "outputs": [
    {
     "data": {
      "text/plain": [
       "<matplotlib.colorbar.Colorbar at 0x10dd28510>"
      ]
     },
     "execution_count": 20,
     "metadata": {},
     "output_type": "execute_result"
    },
    {
     "data": {
      "image/png": "[encoded data removed]",
      "text/plain": [
       "<matplotlib.figure.Figure at 0x10a755290>"
      ]
     },
     "metadata": {},
     "output_type": "display_data"
    },
    {
     "data": {
      "image/png": "[encoded data removed]",
      "text/plain": [
       "<matplotlib.figure.Figure at 0x10d1ff6d0>"
      ]
     },
     "metadata": {},
     "output_type": "display_data"
    },
    {
     "data": {
      "image/png": "[encoded data removed]",
      "text/plain": [
       "<matplotlib.figure.Figure at 0x10df03650>"
      ]
     },
     "metadata": {},
     "output_type": "display_data"
    },
    {
     "data": {
      "image/png": "[encoded data removed]",
      "text/plain": [
       "<matplotlib.figure.Figure at 0x10df95890>"
      ]
     },
     "metadata": {},
     "output_type": "display_data"
    }
   ],
   "source": [
    "dosH = np.zeros((len(y), len(z)))\n",
    "dosL = np.zeros((len(y), len(z)))\n",
    "ne = np.zeros((len(y), len(z)))\n",
    "nh = np.zeros((len(y), len(z)))\n",
    "\n",
    "for i in range(len(z)):\n",
    "    dosH[:,i] = gaussian(y, EH, 0.25)\n",
    "    dosL[:,i] = gaussian(y, EL, 0.25)\n",
    "for i in range(len(z)):\n",
    "    ne[:,i] = dosL[:,i]*fL  # [/E /dz]\n",
    "    nh[:,i] = dosH[:,i]*fH\n",
    "plt.plot(y, dosL, 'b', label = 'DOS_E')\n",
    "plt.plot(y, dosH, 'r', label = 'DOS_H')\n",
    "\n",
    "neSum = np.sum(ne, axis = 0)*dE  # [/dz]\n",
    "nhSum = np.sum(nh, axis = 0)*dE \n",
    "qden_old = q*n*(nhSum - neSum) # [C/m2/dz]\n",
    "plt.figure()\n",
    "plt.plot(z, neSum, 'b', label = 'electron')\n",
    "plt.plot(z, nhSum, 'r', label = 'hole')\n",
    "plt.figure()\n",
    "plt.contourf(z,y, ne)\n",
    "plt.colorbar()\n",
    "plt.figure()\n",
    "plt.contourf(z,y, nh)\n",
    "plt.colorbar()\n"
   ]
  },
  {
   "cell_type": "code",
   "execution_count": 21,
   "metadata": {},
   "outputs": [
    {
     "data": {
      "text/plain": [
       "[<matplotlib.lines.Line2D at 0x10e127350>]"
      ]
     },
     "execution_count": 21,
     "metadata": {},
     "output_type": "execute_result"
    },
    {
     "data": {
      "image/png": "[encoded data removed]",
      "text/plain": [
       "<matplotlib.figure.Figure at 0x10d0b7410>"
      ]
     },
     "metadata": {},
     "output_type": "display_data"
    }
   ],
   "source": [
    "#qden_old /= 1000\n",
    "#Vz = np.linalg.solve(poisson, -qden_old/eo)\n",
    "Vz = spsolve(inhomo_lap, -qden_old/eo/dz)\n",
    "#fig, ax1 = plt.subplots(1,2)\n",
    "plt.plot(z, -Vz)\n",
    "#plt.ylim([-1.1,0])"
   ]
  },
  {
   "cell_type": "code",
   "execution_count": 22,
   "metadata": {
    "scrolled": false
   },
   "outputs": [
    {
     "name": "stdout",
     "output_type": "stream",
     "text": [
      "0 4.61179004749\n",
      "1000 3.74979742817\n"
     ]
    },
    {
     "data": {
      "text/plain": [
       "<matplotlib.contour.QuadContourSet at 0x10e3fce50>"
      ]
     },
     "execution_count": 22,
     "metadata": {},
     "output_type": "execute_result"
    },
    {
     "data": {
      "image/png": "[encoded data removed]",
      "text/plain": [
       "<matplotlib.figure.Figure at 0x10dd285d0>"
      ]
     },
     "metadata": {},
     "output_type": "display_data"
    },
    {
     "data": {
      "image/png": "[encoded data removed]",
      "text/plain": [
       "<matplotlib.figure.Figure at 0x10e3f1dd0>"
      ]
     },
     "metadata": {},
     "output_type": "display_data"
    }
   ],
   "source": [
    "diff = 10\n",
    "dosH = np.zeros((len(y), len(z)))\n",
    "dosL = np.zeros((len(y), len(z)))\n",
    "ne = np.zeros((len(y), len(z)))\n",
    "nh = np.zeros((len(y), len(z)))\n",
    "\n",
    "for k in range(10000):\n",
    "    Vz = spsolve(inhomo_lap, -qden_old/eo/dz)\n",
    "    for i in range(len(z)):\n",
    "        dosH[:,i] = gaussian(y, EH-Vz[i], 0.25)\n",
    "        dosL[:,i] = gaussian(y, EL-Vz[i], 0.25)\n",
    "    for i in range(len(z)):\n",
    "        ne[:,i] = dosL[:,i]*fL\n",
    "        nh[:,i] = dosH[:,i]*fH\n",
    "    neSum = np.sum(ne, axis = 0)*dE\n",
    "    nhSum = np.sum(nh, axis = 0)*dE\n",
    "    qden_new = q*n*(nhSum - neSum)\n",
    "    diff = np.sum(qden_old - qden_new)\n",
    "    qden_old = (qden_old*99/100 + qden_new/100)\n",
    "    if k % 1000 == 0:\n",
    "        print k, diff\n",
    "    if np.abs(diff) < 1e-6:\n",
    "        break\n",
    "    \n",
    "plt.contourf(z, y, dosL)\n",
    "plt.figure()\n",
    "plt.contourf(z, y, dosH)\n",
    "\n",
    "#plt.colorbar()\n",
    "#plt.plot(z, -Vz)\n",
    "#plt.figure()\n",
    "#plt.plot(z, qden_old)"
   ]
  },
  {
   "cell_type": "code",
   "execution_count": 23,
   "metadata": {},
   "outputs": [
    {
     "data": {
      "text/plain": [
       "[<matplotlib.lines.Line2D at 0x10e79c0d0>]"
      ]
     },
     "execution_count": 23,
     "metadata": {},
     "output_type": "execute_result"
    },
    {
     "data": {
      "image/png": "[encoded data removed]",
      "text/plain": [
       "<matplotlib.figure.Figure at 0x10d62b5d0>"
      ]
     },
     "metadata": {},
     "output_type": "display_data"
    },
    {
     "data": {
      "image/png": "[encoded data removed]",
      "text/plain": [
       "<matplotlib.figure.Figure at 0x10e6051d0>"
      ]
     },
     "metadata": {},
     "output_type": "display_data"
    }
   ],
   "source": [
    "plt.plot(z, qden_old)\n",
    "plt.figure()\n",
    "plt.plot(z, -Vz)"
   ]
  }
 ],
 "metadata": {
  "kernelspec": {
   "display_name": "Python 2",
   "language": "python",
   "name": "python2"
  },
  "language_info": {
   "codemirror_mode": {
    "name": "ipython",
    "version": 2
   },
   "file_extension": ".py",
   "mimetype": "text/x-python",
   "name": "python",
   "nbconvert_exporter": "python",
   "pygments_lexer": "ipython2",
   "version": "2.7.13"
  }
 },
 "nbformat": 4,
 "nbformat_minor": 2
}
