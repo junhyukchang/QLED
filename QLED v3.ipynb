{
 "cells": [
  {
   "cell_type": "code",
   "execution_count": 1,
   "metadata": {
    "collapsed": true
   },
   "outputs": [],
   "source": [
    "%matplotlib inline\n",
    "from __future__ import division\n",
    "import numpy as np\n",
    "import matplotlib.pyplot as plt\n",
    "import sys\n",
    "sys.path.append(\"/Users/KP/Google/Python/QD\")\n",
    "from sub import parameter, matrix, geometry\n",
    "from scipy.sparse import csr_matrix, eye, diags\n",
    "from scipy.sparse.linalg import eigs, spsolve\n"
   ]
  },
  {
   "cell_type": "code",
   "execution_count": 2,
   "metadata": {
    "collapsed": true
   },
   "outputs": [],
   "source": [
    "def gaussian(x, mu, sig):\n",
    "    return np.exp(-np.power(x - mu, 2.) / (2 * np.power(sig, 2.)))"
   ]
  },
  {
   "cell_type": "markdown",
   "metadata": {},
   "source": [
    "# Define Geometry"
   ]
  },
  {
   "cell_type": "code",
   "execution_count": 3,
   "metadata": {
    "collapsed": true
   },
   "outputs": [],
   "source": [
    "dz = 2e-10\n",
    "z = np.arange(0, 30e-9, dz)\n",
    "nz = len(z)\n",
    "eo = 8.85e-12\n",
    "er = 3.6\n",
    "c_array = np.ones(len(z))*er #* eo*er\n",
    "V = 4\n",
    "Vi = np.linspace(0, V, nz)\n",
    "dE = 0.1\n",
    "y = np.arange(-10, 0, dE) # Energy\n",
    "kT = 0.0259\n",
    "q = 1.6e-19"
   ]
  },
  {
   "cell_type": "markdown",
   "metadata": {},
   "source": [
    "# Define Constant"
   ]
  },
  {
   "cell_type": "code",
   "execution_count": 18,
   "metadata": {
    "collapsed": true
   },
   "outputs": [],
   "source": [
    "EH = -5.3 # ev\n",
    "EL = -2.1 \n",
    "EF = -5.1\n",
    "\n",
    "n = 4.1e18/1.42e-9*dz"
   ]
  },
  {
   "cell_type": "markdown",
   "metadata": {},
   "source": [
    "# Define Inhomogeneous Poisson Matrix"
   ]
  },
  {
   "cell_type": "code",
   "execution_count": 19,
   "metadata": {},
   "outputs": [],
   "source": [
    "boundary_start = 'Dirichlet'\n",
    "boundary_end = 'Neumann'\n",
    "\n",
    "dcoeffdz = (eye(nz,k=1) + eye(nz,k=-1)*-1)\n",
    "dcoeffdz /= (2*dz)\n",
    "dcoeffdz = dcoeffdz.todense()\n",
    "for i in range(nz):\n",
    "    dcoeffdz[i] = dcoeffdz[i]*(c_array[i])  # [nz, nz] X [nz, 1] = [nz, 1]\n",
    "dcoeffdz[0,0] = 0\n",
    "ddz = eye(nz ,k=1) + eye(nz ,k=-1)*-1 \n",
    "ddz /= (2*dz)\n",
    "ddz = ddz.todense()\n",
    "\n",
    "laplacY = eye(nz)*(-2) + eye(nz,k=1) +eye(nz, k=-1)\n",
    "laplacY /= (dz**2)\n",
    "laplacY =laplacY .todense()\n",
    "\n",
    "term1 = np.zeros((nz,nz))\n",
    "term2 = np.zeros((nz,nz))\n",
    "      \n",
    "for i in range(nz):\n",
    "    term1[i,:] = ddz[i,:] *dcoeffdz[i,0]\n",
    "    term2[i,:] = laplacY[i,:] * c_array[i]\n",
    "if boundary_end == 'Neumann':\n",
    "    term1[-1,:] = 0\n",
    "    \n",
    "inhomo_lap = term1 + term2\n",
    "\n",
    "if boundary_start == 'Neumann':\n",
    "    inhomo_lap[0,1] *= 2\n",
    "    inhomo_lap[0,1] *= 2\n",
    "elif boundary_start == 'Dirichlet':\n",
    "    inhomo_lap[0,0] += c_array[0]*V/(dz**2)\n",
    "\n",
    "if boundary_end == 'Neumann':\n",
    "    inhomo_lap[nz-1,nz-2] *= 2\n",
    "elif boundary_start == 'Dirichlet':\n",
    "    inhomo_lap[-1,-1] += c_array[0]*V/(dz**2)"
   ]
  },
  {
   "cell_type": "code",
   "execution_count": 20,
   "metadata": {},
   "outputs": [],
   "source": [
    "inhomo_lap = csr_matrix(inhomo_lap)"
   ]
  },
  {
   "cell_type": "code",
   "execution_count": 21,
   "metadata": {},
   "outputs": [
    {
     "data": {
      "text/plain": [
       "<matplotlib.legend.Legend at 0x112ed7350>"
      ]
     },
     "execution_count": 21,
     "metadata": {},
     "output_type": "execute_result"
    },
    {
     "data": {
      "image/png": "[encoded data removed]",
      "text/plain": [
       "<matplotlib.figure.Figure at 0x112f92d10>"
      ]
     },
     "metadata": {},
     "output_type": "display_data"
    }
   ],
   "source": [
    "fH = 1/(1/2*np.exp(-(y-EF)/kT)+1)\n",
    "fL = 1/(1/2*np.exp((y-EF)/kT)+1)\n",
    "plt.plot(y, fL, 'b', label = 'electron')\n",
    "plt.plot(y, fH, 'r', label = 'hole')\n",
    "plt.legend()"
   ]
  },
  {
   "cell_type": "code",
   "execution_count": 57,
   "metadata": {},
   "outputs": [
    {
     "data": {
      "text/plain": [
       "<matplotlib.colorbar.Colorbar at 0x116a02b50>"
      ]
     },
     "execution_count": 57,
     "metadata": {},
     "output_type": "execute_result"
    },
    {
     "data": {
      "image/png": "[encoded data removed]",
      "text/plain": [
       "<matplotlib.figure.Figure at 0x1167ad5d0>"
      ]
     },
     "metadata": {},
     "output_type": "display_data"
    },
    {
     "data": {
      "image/png": "[encoded data removed]",
      "text/plain": [
       "<matplotlib.figure.Figure at 0x11551bfd0>"
      ]
     },
     "metadata": {},
     "output_type": "display_data"
    },
    {
     "data": {
      "image/png": "[encoded data removed]",
      "text/plain": [
       "<matplotlib.figure.Figure at 0x115fb6c50>"
      ]
     },
     "metadata": {},
     "output_type": "display_data"
    },
    {
     "data": {
      "image/png": "[encoded data removed]",
      "text/plain": [
       "<matplotlib.figure.Figure at 0x116637fd0>"
      ]
     },
     "metadata": {},
     "output_type": "display_data"
    }
   ],
   "source": [
    "dosH = np.zeros((len(y), len(z)))\n",
    "dosL = np.zeros((len(y), len(z)))\n",
    "ne = np.zeros((len(y), len(z)))\n",
    "nh = np.zeros((len(y), len(z)))\n",
    "\n",
    "for i in range(len(z)):\n",
    "    dosH[:,i] = gaussian(y, EH, 0.25)\n",
    "    dosL[:,i] = gaussian(y, EL, 0.25)\n",
    "for i in range(len(z)):\n",
    "    ne[:,i] = dosL[:,i]*fL  # [/E /dz]\n",
    "    nh[:,i] = dosH[:,i]*fH\n",
    "plt.plot(y, dosL, 'b', label = 'DOS_E')\n",
    "plt.plot(y, dosH, 'r', label = 'DOS_H')\n",
    "\n",
    "neSum = np.sum(ne, axis = 0)*dE  # [/dz]\n",
    "nhSum = np.sum(nh, axis = 0)*dE \n",
    "qden_old = q*n*(nhSum - neSum) # [C/m2/dz]\n",
    "plt.figure()\n",
    "plt.plot(z, neSum, 'b', label = 'electron')\n",
    "plt.plot(z, nhSum, 'r', label = 'hole')\n",
    "plt.figure()\n",
    "plt.contourf(z,y, ne)\n",
    "plt.colorbar()\n",
    "plt.figure()\n",
    "plt.contourf(z,y, nh)\n",
    "plt.colorbar()\n"
   ]
  },
  {
   "cell_type": "code",
   "execution_count": 58,
   "metadata": {},
   "outputs": [
    {
     "data": {
      "text/plain": [
       "[<matplotlib.lines.Line2D at 0x116adff90>]"
      ]
     },
     "execution_count": 58,
     "metadata": {},
     "output_type": "execute_result"
    },
    {
     "data": {
      "image/png": "[encoded data removed]",
      "text/plain": [
       "<matplotlib.figure.Figure at 0x11594a7d0>"
      ]
     },
     "metadata": {},
     "output_type": "display_data"
    }
   ],
   "source": [
    "#qden_old /= 1000\n",
    "#Vz = np.linalg.solve(poisson, -qden_old/eo)\n",
    "Vz = spsolve(inhomo_lap, -qden_old/eo/dz)\n",
    "#fig, ax1 = plt.subplots(1,2)\n",
    "plt.plot(z, -Vz)\n",
    "#plt.ylim([-1.1,0])"
   ]
  },
  {
   "cell_type": "code",
   "execution_count": 70,
   "metadata": {
    "scrolled": false
   },
   "outputs": [
    {
     "name": "stdout",
     "output_type": "stream",
     "text": [
      "-6.65582194254\n"
     ]
    },
    {
     "data": {
      "text/plain": [
       "<matplotlib.contour.QuadContourSet at 0x116b93dd0>"
      ]
     },
     "execution_count": 70,
     "metadata": {},
     "output_type": "execute_result"
    },
    {
     "data": {
      "image/png": "[encoded data removed]",
      "text/plain": [
       "<matplotlib.figure.Figure at 0x11735a5d0>"
      ]
     },
     "metadata": {},
     "output_type": "display_data"
    },
    {
     "data": {
      "image/png": "[encoded data removed]",
      "text/plain": [
       "<matplotlib.figure.Figure at 0x116b933d0>"
      ]
     },
     "metadata": {},
     "output_type": "display_data"
    }
   ],
   "source": [
    "diff = 10\n",
    "dosH = np.zeros((len(y), len(z)))\n",
    "dosL = np.zeros((len(y), len(z)))\n",
    "ne = np.zeros((len(y), len(z)))\n",
    "nh = np.zeros((len(y), len(z)))\n",
    "\n",
    "for k in range(1):\n",
    "    Vz = spsolve(inhomo_lap, -qden_old/eo/dz)\n",
    "    for i in range(len(z)):\n",
    "        dosH[:,i] = gaussian(y, EH-Vz[i], 0.25)\n",
    "        dosL[:,i] = gaussian(y, EL-Vz[i], 0.25)\n",
    "    for i in range(len(z)):\n",
    "        ne[:,i] = dosL[:,i]*fL\n",
    "        nh[:,i] = dosH[:,i]*fH\n",
    "    neSum = np.sum(ne, axis = 0)*dE\n",
    "    nhSum = np.sum(nh, axis = 0)*dE\n",
    "    qden_new = q*n*(nhSum - neSum)\n",
    "    diff = np.sum(qden_old - qden_new)\n",
    "    qden_old = qden_new+0\n",
    "    qden_old /= 10\n",
    "    #qden_new *= 1000\n",
    "    #plt.plot(z, -Vz)\n",
    "#    plt.plot(y, dosL, 'r',  label = 'DOS_E')\n",
    "    #plt.plot(y, dosL, 'g', label = 'DOS_H')\n",
    "\n",
    "    print diff\n",
    "    \n",
    "plt.contourf(z, y, dosL)\n",
    "plt.figure()\n",
    "plt.contourf(z, y, dosH)\n",
    "\n",
    "#plt.colorbar()\n",
    "#plt.plot(z, -Vz)\n",
    "#plt.figure()\n",
    "#plt.plot(z, qden_old)"
   ]
  },
  {
   "cell_type": "code",
   "execution_count": 71,
   "metadata": {},
   "outputs": [
    {
     "data": {
      "text/plain": [
       "[<matplotlib.lines.Line2D at 0x1166ee690>]"
      ]
     },
     "execution_count": 71,
     "metadata": {},
     "output_type": "execute_result"
    },
    {
     "data": {
      "image/png": "[encoded data removed]",
      "text/plain": [
       "<matplotlib.figure.Figure at 0x11541edd0>"
      ]
     },
     "metadata": {},
     "output_type": "display_data"
    },
    {
     "data": {
      "image/png": "[encoded data removed]",
      "text/plain": [
       "<matplotlib.figure.Figure at 0x116b4dc90>"
      ]
     },
     "metadata": {},
     "output_type": "display_data"
    }
   ],
   "source": [
    "plt.plot(z, qden_old*1000)\n",
    "plt.figure()\n",
    "plt.plot(z, -Vz)"
   ]
  }
 ],
 "metadata": {
  "kernelspec": {
   "display_name": "Python 2",
   "language": "python",
   "name": "python2"
  },
  "language_info": {
   "codemirror_mode": {
    "name": "ipython",
    "version": 2
   },
   "file_extension": ".py",
   "mimetype": "text/x-python",
   "name": "python",
   "nbconvert_exporter": "python",
   "pygments_lexer": "ipython2",
   "version": "2.7.13"
  }
 },
 "nbformat": 4,
 "nbformat_minor": 2
}
